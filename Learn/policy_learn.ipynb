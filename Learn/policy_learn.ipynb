{
 "cells": [
  {
   "cell_type": "code",
   "execution_count": 1,
   "metadata": {},
   "outputs": [],
   "source": [
    "import cshogi\n",
    "import torch\n",
    "import torch.nn as nn\n",
    "import numpy as np\n",
    "from common import *"
   ]
  },
  {
   "cell_type": "code",
   "execution_count": 2,
   "metadata": {},
   "outputs": [],
   "source": [
    "board = cshogi.Board()"
   ]
  },
  {
   "cell_type": "code",
   "execution_count": 32,
   "metadata": {},
   "outputs": [],
   "source": [
    "class PolicyNet(nn.Module):\n",
    "    def __init__(self):\n",
    "        super(PolicyNet, self).__init__()\n",
    "        self.conv1 = nn.Conv2d(in_channels=28, out_channels=128, kernel_size=3, padding=1)\n",
    "        self.bn1 = nn.BatchNorm2d(128)\n",
    "        self.conv2 = nn.Conv2d(128, 128, 3, 1)\n",
    "        self.bn2 = nn.BatchNorm2d(128)\n",
    "        self.conv3 = nn.Conv2d(128, 3, 3, 1)\n",
    "        self.bn3 = nn.BatchNorm2d(3)\n",
    "        self.fc1 = nn.Linear(3*5*5, 1024)\n",
    "        self.fc2 = nn.Linear(1024, 512)\n",
    "        self.fc3 = nn.Linear(512, 128)\n",
    "        self.fc4 = nn.Linear(128, 9*9*2+1)\n",
    "        self.relu = nn.ReLU()\n",
    "        self.sigmoid = nn.Sigmoid()\n",
    "\n",
    "    def forward(self,x):\n",
    "        x = self.relu(self.bn1(self.conv1(x)))\n",
    "        x = self.relu(self.bn2(self.conv2(x)))\n",
    "        x = self.relu(self.bn3(self.conv3(x)))\n",
    "        x = x.view(-1, 3*5*5)\n",
    "        x = self.relu(self.fc1(x))\n",
    "        x = self.relu(self.fc2(x))\n",
    "        x = self.relu(self.fc3(x))\n",
    "        x = self.sigmoid(self.fc4(x))\n",
    "        return x\n",
    "\n",
    "policy_net = PolicyNet()"
   ]
  },
  {
   "cell_type": "code",
   "execution_count": 35,
   "metadata": {},
   "outputs": [
    {
     "data": {
      "text/plain": [
       "tensor([[0.4887, 0.4770, 0.5037, 0.5128, 0.4798, 0.5248, 0.5224, 0.4855, 0.4707,\n",
       "         0.5011, 0.5051, 0.5163, 0.4873, 0.5035, 0.5175, 0.5025, 0.4759, 0.5042,\n",
       "         0.4915, 0.5105, 0.4858, 0.5182, 0.5204, 0.5248, 0.4976, 0.5106, 0.5169,\n",
       "         0.5139, 0.4955, 0.4853, 0.5106, 0.5033, 0.5100, 0.5153, 0.5255, 0.4996,\n",
       "         0.5107, 0.4977, 0.5033, 0.5071, 0.4920, 0.4697, 0.5128, 0.4915, 0.5017,\n",
       "         0.4763, 0.4936, 0.4939, 0.5018, 0.4963, 0.4728, 0.5102, 0.5156, 0.4872,\n",
       "         0.4805, 0.4949, 0.4855, 0.5128, 0.5213, 0.4796, 0.4938, 0.5093, 0.4766,\n",
       "         0.5071, 0.4832, 0.4757, 0.5184, 0.5035, 0.5008, 0.5050, 0.5083, 0.5038,\n",
       "         0.4929, 0.4803, 0.5116, 0.5114, 0.4787, 0.4924, 0.5040, 0.5204, 0.4848,\n",
       "         0.4726, 0.5060, 0.4888, 0.5188, 0.5004, 0.5120, 0.4832, 0.4970, 0.4867,\n",
       "         0.5156, 0.4948, 0.4979, 0.5315, 0.4796, 0.5193, 0.4743, 0.4976, 0.4999,\n",
       "         0.5088, 0.4768, 0.4933, 0.5091, 0.4831, 0.4852, 0.4830, 0.4935, 0.5185,\n",
       "         0.4855, 0.5034, 0.4944, 0.5084, 0.5108, 0.4752, 0.4922, 0.4916, 0.5110,\n",
       "         0.4819, 0.5103, 0.4954, 0.5242, 0.4792, 0.5309, 0.4987, 0.4842, 0.4903,\n",
       "         0.5059, 0.4898, 0.5146, 0.5081, 0.4846, 0.5116, 0.4869, 0.4835, 0.5136,\n",
       "         0.5189, 0.5163, 0.4808, 0.5221, 0.4947, 0.5084, 0.4955, 0.4833, 0.4786,\n",
       "         0.4713, 0.5089, 0.4889, 0.4974, 0.4927, 0.5324, 0.4795, 0.4993, 0.5129,\n",
       "         0.5174, 0.4976, 0.5176, 0.5197, 0.4778, 0.5070, 0.5079, 0.4842, 0.4838,\n",
       "         0.4846]], grad_fn=<SigmoidBackward0>)"
      ]
     },
     "execution_count": 35,
     "metadata": {},
     "output_type": "execute_result"
    }
   ],
   "source": [
    "input = torch.randn(1,28,9,9)\n",
    "policy_net(input)"
   ]
  },
  {
   "cell_type": "code",
   "execution_count": null,
   "metadata": {},
   "outputs": [],
   "source": []
  }
 ],
 "metadata": {
  "kernelspec": {
   "display_name": "3.11.3",
   "language": "python",
   "name": "python3"
  },
  "language_info": {
   "codemirror_mode": {
    "name": "ipython",
    "version": 3
   },
   "file_extension": ".py",
   "mimetype": "text/x-python",
   "name": "python",
   "nbconvert_exporter": "python",
   "pygments_lexer": "ipython3",
   "version": "3.11.3"
  }
 },
 "nbformat": 4,
 "nbformat_minor": 2
}
