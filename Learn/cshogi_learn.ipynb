{
 "cells": [
  {
   "cell_type": "code",
   "execution_count": 2,
   "metadata": {},
   "outputs": [],
   "source": [
    "import cshogi\n",
    "import numpy as np"
   ]
  },
  {
   "cell_type": "code",
   "execution_count": 3,
   "metadata": {},
   "outputs": [],
   "source": [
    "board = cshogi.Board()"
   ]
  },
  {
   "cell_type": "code",
   "execution_count": null,
   "metadata": {},
   "outputs": [],
   "source": [
    "for move in board.legal_moves:\n",
    "    print(cshogi.move_to_usi(move))\n",
    "\n",
    "print(len(board.legal_moves))"
   ]
  },
  {
   "cell_type": "code",
   "execution_count": 5,
   "metadata": {},
   "outputs": [
    {
     "data": {
      "text/plain": [
       "66309"
      ]
     },
     "execution_count": 5,
     "metadata": {},
     "output_type": "execute_result"
    }
   ],
   "source": [
    "board.push_usi(\"1g1f\")"
   ]
  },
  {
   "cell_type": "code",
   "execution_count": 6,
   "metadata": {},
   "outputs": [
    {
     "data": {
      "image/svg+xml": [
       "<svg xmlns=\"http://www.w3.org/2000/svg\" version=\"1.1\" xmlns:xlink=\"http://www.w3.org/1999/xlink\" width=\"230.0\" height=\"192.0\" viewBox=\"0 0 230 192\"><defs><g id=\"black-pawn\"><text font-family=\"serif\" font-size=\"17\" text-anchor=\"middle\" x=\"10.5\" y=\"16.5\">&#27497;</text></g><g id=\"black-lance\"><text font-family=\"serif\" font-size=\"17\" text-anchor=\"middle\" x=\"10.5\" y=\"16.5\">&#39321;</text></g><g id=\"black-knight\"><text font-family=\"serif\" font-size=\"17\" text-anchor=\"middle\" x=\"10.5\" y=\"16.5\">&#26690;</text></g><g id=\"black-silver\"><text font-family=\"serif\" font-size=\"17\" text-anchor=\"middle\" x=\"10.5\" y=\"16.5\">&#37504;</text></g><g id=\"black-gold\"><text font-family=\"serif\" font-size=\"17\" text-anchor=\"middle\" x=\"10.5\" y=\"16.5\">&#37329;</text></g><g id=\"black-bishop\"><text font-family=\"serif\" font-size=\"17\" text-anchor=\"middle\" x=\"10.5\" y=\"16.5\">&#35282;</text></g><g id=\"black-rook\"><text font-family=\"serif\" font-size=\"17\" text-anchor=\"middle\" x=\"10.5\" y=\"16.5\">&#39131;</text></g><g id=\"black-king\"><text font-family=\"serif\" font-size=\"17\" text-anchor=\"middle\" x=\"10.5\" y=\"16.5\">&#29579;</text></g><g id=\"black-pro-pawn\"><text font-family=\"serif\" font-size=\"17\" text-anchor=\"middle\" x=\"10.5\" y=\"16.5\">&#12392;</text></g><g id=\"black-pro-lance\" transform=\"scale(1.0, 0.5)\"><text font-family=\"serif\" font-size=\"17\" text-anchor=\"middle\" x=\"10.5\" y=\"18\">&#25104;</text><text font-family=\"serif\" font-size=\"17\" text-anchor=\"middle\" x=\"10.5\" y=\"34\">&#39321;</text></g><g id=\"black-pro-knight\" transform=\"scale(1.0, 0.5)\"><text font-family=\"serif\" font-size=\"17\" text-anchor=\"middle\" x=\"10.5\" y=\"18\">&#25104;</text><text font-family=\"serif\" font-size=\"17\" text-anchor=\"middle\" x=\"10.5\" y=\"34\">&#26690;</text></g><g id=\"black-pro-silver\" transform=\"scale(1.0, 0.5)\"><text font-family=\"serif\" font-size=\"17\" text-anchor=\"middle\" x=\"10.5\" y=\"18\">&#25104;</text><text font-family=\"serif\" font-size=\"17\" text-anchor=\"middle\" x=\"10.5\" y=\"34\">&#37504;</text></g><g id=\"black-horse\"><text font-family=\"serif\" font-size=\"17\" text-anchor=\"middle\" x=\"10.5\" y=\"16.5\">&#39340;</text></g><g id=\"black-dragon\"><text font-family=\"serif\" font-size=\"17\" text-anchor=\"middle\" x=\"10.5\" y=\"16.5\">&#40845;</text></g><g id=\"white-pawn\" transform=\"rotate(180)\"><text font-family=\"serif\" font-size=\"17\" text-anchor=\"middle\" x=\"-10.5\" y=\"-3.5\">&#27497;</text></g><g id=\"white-lance\" transform=\"rotate(180)\"><text font-family=\"serif\" font-size=\"17\" text-anchor=\"middle\" x=\"-10.5\" y=\"-3.5\">&#39321;</text></g><g id=\"white-knight\" transform=\"rotate(180)\"><text font-family=\"serif\" font-size=\"17\" text-anchor=\"middle\" x=\"-10.5\" y=\"-3.5\">&#26690;</text></g><g id=\"white-silver\" transform=\"rotate(180)\"><text font-family=\"serif\" font-size=\"17\" text-anchor=\"middle\" x=\"-10.5\" y=\"-3.5\">&#37504;</text></g><g id=\"white-gold\" transform=\"rotate(180)\"><text font-family=\"serif\" font-size=\"17\" text-anchor=\"middle\" x=\"-10.5\" y=\"-3.5\">&#37329;</text></g><g id=\"white-bishop\" transform=\"rotate(180)\"><text font-family=\"serif\" font-size=\"17\" text-anchor=\"middle\" x=\"-10.5\" y=\"-3.5\">&#35282;</text></g><g id=\"white-rook\" transform=\"rotate(180)\"><text font-family=\"serif\" font-size=\"17\" text-anchor=\"middle\" x=\"-10.5\" y=\"-3.5\">&#39131;</text></g><g id=\"white-king\" transform=\"rotate(180)\"><text font-family=\"serif\" font-size=\"17\" text-anchor=\"middle\" x=\"-10.5\" y=\"-3.5\">&#29579;</text></g><g id=\"white-pro-pawn\" transform=\"rotate(180)\"><text font-family=\"serif\" font-size=\"17\" text-anchor=\"middle\" x=\"-10.5\" y=\"-3.5\">&#12392;</text></g><g id=\"white-pro-lance\" transform=\"scale(1.0, 0.5) rotate(180)\"><text font-family=\"serif\" font-size=\"17\" text-anchor=\"middle\" x=\"-10.5\" y=\"-22\">&#25104;</text><text font-family=\"serif\" font-size=\"17\" text-anchor=\"middle\" x=\"-10.5\" y=\"-6\">&#39321;</text></g><g id=\"white-pro-knight\" transform=\"scale(1.0, 0.5) rotate(180)\"><text font-family=\"serif\" font-size=\"17\" text-anchor=\"middle\" x=\"-10.5\" y=\"-22\">&#25104;</text><text font-family=\"serif\" font-size=\"17\" text-anchor=\"middle\" x=\"-10.5\" y=\"-6\">&#26690;</text></g><g id=\"white-pro-silver\" transform=\"scale(1.0, 0.5) rotate(180)\"><text font-family=\"serif\" font-size=\"17\" text-anchor=\"middle\" x=\"-10.5\" y=\"-22\">&#25104;</text><text font-family=\"serif\" font-size=\"17\" text-anchor=\"middle\" x=\"-10.5\" y=\"-6\">&#37504;</text></g><g id=\"white-horse\" transform=\"rotate(180)\"><text font-family=\"serif\" font-size=\"17\" text-anchor=\"middle\" x=\"-10.5\" y=\"-3.5\">&#39340;</text></g><g id=\"white-dragon\" transform=\"rotate(180)\"><text font-family=\"serif\" font-size=\"17\" text-anchor=\"middle\" x=\"-10.5\" y=\"-3.5\">&#40845;</text></g></defs><rect x=\"180.5\" y=\"110.5\" width=\"20\" height=\"20\" fill=\"#f6b94d\" /><rect x=\"180.5\" y=\"130.5\" width=\"20\" height=\"20\" fill=\"#fdf0e3\" /><g stroke=\"black\"><rect x=\"20\" y=\"10\" width=\"181\" height=\"181\" fill=\"none\" stroke-width=\"1.5\" /><line x1=\"20.5\" y1=\"30.5\" x2=\"200.5\" y2=\"30.5\" stroke-width=\"1.0\" /><line x1=\"20.5\" y1=\"50.5\" x2=\"200.5\" y2=\"50.5\" stroke-width=\"1.0\" /><line x1=\"20.5\" y1=\"70.5\" x2=\"200.5\" y2=\"70.5\" stroke-width=\"1.0\" /><line x1=\"20.5\" y1=\"90.5\" x2=\"200.5\" y2=\"90.5\" stroke-width=\"1.0\" /><line x1=\"20.5\" y1=\"110.5\" x2=\"200.5\" y2=\"110.5\" stroke-width=\"1.0\" /><line x1=\"20.5\" y1=\"130.5\" x2=\"200.5\" y2=\"130.5\" stroke-width=\"1.0\" /><line x1=\"20.5\" y1=\"150.5\" x2=\"200.5\" y2=\"150.5\" stroke-width=\"1.0\" /><line x1=\"20.5\" y1=\"170.5\" x2=\"200.5\" y2=\"170.5\" stroke-width=\"1.0\" /><line x1=\"40.5\" y1=\"10.5\" x2=\"40.5\" y2=\"190.5\" stroke-width=\"1.0\" /><line x1=\"60.5\" y1=\"10.5\" x2=\"60.5\" y2=\"190.5\" stroke-width=\"1.0\" /><line x1=\"80.5\" y1=\"10.5\" x2=\"80.5\" y2=\"190.5\" stroke-width=\"1.0\" /><line x1=\"100.5\" y1=\"10.5\" x2=\"100.5\" y2=\"190.5\" stroke-width=\"1.0\" /><line x1=\"120.5\" y1=\"10.5\" x2=\"120.5\" y2=\"190.5\" stroke-width=\"1.0\" /><line x1=\"140.5\" y1=\"10.5\" x2=\"140.5\" y2=\"190.5\" stroke-width=\"1.0\" /><line x1=\"160.5\" y1=\"10.5\" x2=\"160.5\" y2=\"190.5\" stroke-width=\"1.0\" /><line x1=\"180.5\" y1=\"10.5\" x2=\"180.5\" y2=\"190.5\" stroke-width=\"1.0\" /></g><g><text font-family=\"serif\" text-anchor=\"middle\" font-size=\"9\" x=\"30.5\" y=\"8\">9</text><text font-family=\"serif\" text-anchor=\"middle\" font-size=\"9\" x=\"50.5\" y=\"8\">8</text><text font-family=\"serif\" text-anchor=\"middle\" font-size=\"9\" x=\"70.5\" y=\"8\">7</text><text font-family=\"serif\" text-anchor=\"middle\" font-size=\"9\" x=\"90.5\" y=\"8\">6</text><text font-family=\"serif\" text-anchor=\"middle\" font-size=\"9\" x=\"110.5\" y=\"8\">5</text><text font-family=\"serif\" text-anchor=\"middle\" font-size=\"9\" x=\"130.5\" y=\"8\">4</text><text font-family=\"serif\" text-anchor=\"middle\" font-size=\"9\" x=\"150.5\" y=\"8\">3</text><text font-family=\"serif\" text-anchor=\"middle\" font-size=\"9\" x=\"170.5\" y=\"8\">2</text><text font-family=\"serif\" text-anchor=\"middle\" font-size=\"9\" x=\"190.5\" y=\"8\">1</text><text font-family=\"serif\" font-size=\"9\" x=\"203.5\" y=\"23\">&#19968;</text><text font-family=\"serif\" font-size=\"9\" x=\"203.5\" y=\"43\">&#20108;</text><text font-family=\"serif\" font-size=\"9\" x=\"203.5\" y=\"63\">&#19977;</text><text font-family=\"serif\" font-size=\"9\" x=\"203.5\" y=\"83\">&#22235;</text><text font-family=\"serif\" font-size=\"9\" x=\"203.5\" y=\"103\">&#20116;</text><text font-family=\"serif\" font-size=\"9\" x=\"203.5\" y=\"123\">&#20845;</text><text font-family=\"serif\" font-size=\"9\" x=\"203.5\" y=\"143\">&#19971;</text><text font-family=\"serif\" font-size=\"9\" x=\"203.5\" y=\"163\">&#20843;</text><text font-family=\"serif\" font-size=\"9\" x=\"203.5\" y=\"183\">&#20061;</text></g><use xlink:href=\"#white-lance\" x=\"180.5\" y=\"10.5\" /><use xlink:href=\"#white-pawn\" x=\"180.5\" y=\"50.5\" /><use xlink:href=\"#black-pawn\" x=\"180.5\" y=\"110.5\" /><use xlink:href=\"#black-lance\" x=\"180.5\" y=\"170.5\" /><use xlink:href=\"#white-knight\" x=\"160.5\" y=\"10.5\" /><use xlink:href=\"#white-bishop\" x=\"160.5\" y=\"30.5\" /><use xlink:href=\"#white-pawn\" x=\"160.5\" y=\"50.5\" /><use xlink:href=\"#black-pawn\" x=\"160.5\" y=\"130.5\" /><use xlink:href=\"#black-rook\" x=\"160.5\" y=\"150.5\" /><use xlink:href=\"#black-knight\" x=\"160.5\" y=\"170.5\" /><use xlink:href=\"#white-silver\" x=\"140.5\" y=\"10.5\" /><use xlink:href=\"#white-pawn\" x=\"140.5\" y=\"50.5\" /><use xlink:href=\"#black-pawn\" x=\"140.5\" y=\"130.5\" /><use xlink:href=\"#black-silver\" x=\"140.5\" y=\"170.5\" /><use xlink:href=\"#white-gold\" x=\"120.5\" y=\"10.5\" /><use xlink:href=\"#white-pawn\" x=\"120.5\" y=\"50.5\" /><use xlink:href=\"#black-pawn\" x=\"120.5\" y=\"130.5\" /><use xlink:href=\"#black-gold\" x=\"120.5\" y=\"170.5\" /><use xlink:href=\"#white-king\" x=\"100.5\" y=\"10.5\" /><use xlink:href=\"#white-pawn\" x=\"100.5\" y=\"50.5\" /><use xlink:href=\"#black-pawn\" x=\"100.5\" y=\"130.5\" /><use xlink:href=\"#black-king\" x=\"100.5\" y=\"170.5\" /><use xlink:href=\"#white-gold\" x=\"80.5\" y=\"10.5\" /><use xlink:href=\"#white-pawn\" x=\"80.5\" y=\"50.5\" /><use xlink:href=\"#black-pawn\" x=\"80.5\" y=\"130.5\" /><use xlink:href=\"#black-gold\" x=\"80.5\" y=\"170.5\" /><use xlink:href=\"#white-silver\" x=\"60.5\" y=\"10.5\" /><use xlink:href=\"#white-pawn\" x=\"60.5\" y=\"50.5\" /><use xlink:href=\"#black-pawn\" x=\"60.5\" y=\"130.5\" /><use xlink:href=\"#black-silver\" x=\"60.5\" y=\"170.5\" /><use xlink:href=\"#white-knight\" x=\"40.5\" y=\"10.5\" /><use xlink:href=\"#white-rook\" x=\"40.5\" y=\"30.5\" /><use xlink:href=\"#white-pawn\" x=\"40.5\" y=\"50.5\" /><use xlink:href=\"#black-pawn\" x=\"40.5\" y=\"130.5\" /><use xlink:href=\"#black-bishop\" x=\"40.5\" y=\"150.5\" /><use xlink:href=\"#black-knight\" x=\"40.5\" y=\"170.5\" /><use xlink:href=\"#white-lance\" x=\"20.5\" y=\"10.5\" /><use xlink:href=\"#white-pawn\" x=\"20.5\" y=\"50.5\" /><use xlink:href=\"#black-pawn\" x=\"20.5\" y=\"130.5\" /><use xlink:href=\"#black-lance\" x=\"20.5\" y=\"170.5\" /><text font-family=\"serif\" font-size=\"14\" x=\"214\" y=\"176\">&#25163;</text><text font-family=\"serif\" font-size=\"14\" x=\"214\" y=\"162\">&#20808;</text><text font-family=\"serif\" font-size=\"14\" x=\"214\" y=\"148\">&#9751;</text><text font-family=\"serif\" font-size=\"14\" x=\"-16\" y=\"-24\" transform=\"rotate(180)\">&#25163;</text><text font-family=\"serif\" font-size=\"14\" x=\"-16\" y=\"-38\" transform=\"rotate(180)\">&#24460;</text><text font-family=\"serif\" font-size=\"14\" x=\"-16\" y=\"-52\" transform=\"rotate(180)\">&#9750;</text></svg>"
      ],
      "text/plain": [
       "'  9  8  7  6  5  4  3  2  1\n",
       "P1-KY-KE-GI-KI-OU-KI-GI-KE-KY\n",
       "P2 * -HI *  *  *  *  * -KA * \n",
       "P3-FU-FU-FU-FU-FU-FU-FU-FU-FU\n",
       "P4 *  *  *  *  *  *  *  *  * \n",
       "P5 *  *  *  *  *  *  *  *  * \n",
       "P6 *  *  *  *  *  *  *  * +FU\n",
       "P7+FU+FU+FU+FU+FU+FU+FU+FU * \n",
       "P8 * +KA *  *  *  *  * +HI * \n",
       "P9+KY+KE+GI+KI+OU+KI+GI+KE+KY\n",
       "-"
      ]
     },
     "execution_count": 6,
     "metadata": {},
     "output_type": "execute_result"
    }
   ],
   "source": [
    "board"
   ]
  },
  {
   "cell_type": "code",
   "execution_count": 7,
   "metadata": {},
   "outputs": [
    {
     "data": {
      "text/plain": [
       "65795"
      ]
     },
     "execution_count": 7,
     "metadata": {},
     "output_type": "execute_result"
    }
   ],
   "source": [
    "board.push_usi(cshogi.move_to_usi(list(board.legal_moves)[0]))"
   ]
  },
  {
   "cell_type": "code",
   "execution_count": 8,
   "metadata": {},
   "outputs": [
    {
     "data": {
      "image/svg+xml": [
       "<svg xmlns=\"http://www.w3.org/2000/svg\" version=\"1.1\" xmlns:xlink=\"http://www.w3.org/1999/xlink\" width=\"230.0\" height=\"192.0\" viewBox=\"0 0 230 192\"><defs><g id=\"black-pawn\"><text font-family=\"serif\" font-size=\"17\" text-anchor=\"middle\" x=\"10.5\" y=\"16.5\">&#27497;</text></g><g id=\"black-lance\"><text font-family=\"serif\" font-size=\"17\" text-anchor=\"middle\" x=\"10.5\" y=\"16.5\">&#39321;</text></g><g id=\"black-knight\"><text font-family=\"serif\" font-size=\"17\" text-anchor=\"middle\" x=\"10.5\" y=\"16.5\">&#26690;</text></g><g id=\"black-silver\"><text font-family=\"serif\" font-size=\"17\" text-anchor=\"middle\" x=\"10.5\" y=\"16.5\">&#37504;</text></g><g id=\"black-gold\"><text font-family=\"serif\" font-size=\"17\" text-anchor=\"middle\" x=\"10.5\" y=\"16.5\">&#37329;</text></g><g id=\"black-bishop\"><text font-family=\"serif\" font-size=\"17\" text-anchor=\"middle\" x=\"10.5\" y=\"16.5\">&#35282;</text></g><g id=\"black-rook\"><text font-family=\"serif\" font-size=\"17\" text-anchor=\"middle\" x=\"10.5\" y=\"16.5\">&#39131;</text></g><g id=\"black-king\"><text font-family=\"serif\" font-size=\"17\" text-anchor=\"middle\" x=\"10.5\" y=\"16.5\">&#29579;</text></g><g id=\"black-pro-pawn\"><text font-family=\"serif\" font-size=\"17\" text-anchor=\"middle\" x=\"10.5\" y=\"16.5\">&#12392;</text></g><g id=\"black-pro-lance\" transform=\"scale(1.0, 0.5)\"><text font-family=\"serif\" font-size=\"17\" text-anchor=\"middle\" x=\"10.5\" y=\"18\">&#25104;</text><text font-family=\"serif\" font-size=\"17\" text-anchor=\"middle\" x=\"10.5\" y=\"34\">&#39321;</text></g><g id=\"black-pro-knight\" transform=\"scale(1.0, 0.5)\"><text font-family=\"serif\" font-size=\"17\" text-anchor=\"middle\" x=\"10.5\" y=\"18\">&#25104;</text><text font-family=\"serif\" font-size=\"17\" text-anchor=\"middle\" x=\"10.5\" y=\"34\">&#26690;</text></g><g id=\"black-pro-silver\" transform=\"scale(1.0, 0.5)\"><text font-family=\"serif\" font-size=\"17\" text-anchor=\"middle\" x=\"10.5\" y=\"18\">&#25104;</text><text font-family=\"serif\" font-size=\"17\" text-anchor=\"middle\" x=\"10.5\" y=\"34\">&#37504;</text></g><g id=\"black-horse\"><text font-family=\"serif\" font-size=\"17\" text-anchor=\"middle\" x=\"10.5\" y=\"16.5\">&#39340;</text></g><g id=\"black-dragon\"><text font-family=\"serif\" font-size=\"17\" text-anchor=\"middle\" x=\"10.5\" y=\"16.5\">&#40845;</text></g><g id=\"white-pawn\" transform=\"rotate(180)\"><text font-family=\"serif\" font-size=\"17\" text-anchor=\"middle\" x=\"-10.5\" y=\"-3.5\">&#27497;</text></g><g id=\"white-lance\" transform=\"rotate(180)\"><text font-family=\"serif\" font-size=\"17\" text-anchor=\"middle\" x=\"-10.5\" y=\"-3.5\">&#39321;</text></g><g id=\"white-knight\" transform=\"rotate(180)\"><text font-family=\"serif\" font-size=\"17\" text-anchor=\"middle\" x=\"-10.5\" y=\"-3.5\">&#26690;</text></g><g id=\"white-silver\" transform=\"rotate(180)\"><text font-family=\"serif\" font-size=\"17\" text-anchor=\"middle\" x=\"-10.5\" y=\"-3.5\">&#37504;</text></g><g id=\"white-gold\" transform=\"rotate(180)\"><text font-family=\"serif\" font-size=\"17\" text-anchor=\"middle\" x=\"-10.5\" y=\"-3.5\">&#37329;</text></g><g id=\"white-bishop\" transform=\"rotate(180)\"><text font-family=\"serif\" font-size=\"17\" text-anchor=\"middle\" x=\"-10.5\" y=\"-3.5\">&#35282;</text></g><g id=\"white-rook\" transform=\"rotate(180)\"><text font-family=\"serif\" font-size=\"17\" text-anchor=\"middle\" x=\"-10.5\" y=\"-3.5\">&#39131;</text></g><g id=\"white-king\" transform=\"rotate(180)\"><text font-family=\"serif\" font-size=\"17\" text-anchor=\"middle\" x=\"-10.5\" y=\"-3.5\">&#29579;</text></g><g id=\"white-pro-pawn\" transform=\"rotate(180)\"><text font-family=\"serif\" font-size=\"17\" text-anchor=\"middle\" x=\"-10.5\" y=\"-3.5\">&#12392;</text></g><g id=\"white-pro-lance\" transform=\"scale(1.0, 0.5) rotate(180)\"><text font-family=\"serif\" font-size=\"17\" text-anchor=\"middle\" x=\"-10.5\" y=\"-22\">&#25104;</text><text font-family=\"serif\" font-size=\"17\" text-anchor=\"middle\" x=\"-10.5\" y=\"-6\">&#39321;</text></g><g id=\"white-pro-knight\" transform=\"scale(1.0, 0.5) rotate(180)\"><text font-family=\"serif\" font-size=\"17\" text-anchor=\"middle\" x=\"-10.5\" y=\"-22\">&#25104;</text><text font-family=\"serif\" font-size=\"17\" text-anchor=\"middle\" x=\"-10.5\" y=\"-6\">&#26690;</text></g><g id=\"white-pro-silver\" transform=\"scale(1.0, 0.5) rotate(180)\"><text font-family=\"serif\" font-size=\"17\" text-anchor=\"middle\" x=\"-10.5\" y=\"-22\">&#25104;</text><text font-family=\"serif\" font-size=\"17\" text-anchor=\"middle\" x=\"-10.5\" y=\"-6\">&#37504;</text></g><g id=\"white-horse\" transform=\"rotate(180)\"><text font-family=\"serif\" font-size=\"17\" text-anchor=\"middle\" x=\"-10.5\" y=\"-3.5\">&#39340;</text></g><g id=\"white-dragon\" transform=\"rotate(180)\"><text font-family=\"serif\" font-size=\"17\" text-anchor=\"middle\" x=\"-10.5\" y=\"-3.5\">&#40845;</text></g></defs><rect x=\"180.5\" y=\"70.5\" width=\"20\" height=\"20\" fill=\"#f6b94d\" /><rect x=\"180.5\" y=\"50.5\" width=\"20\" height=\"20\" fill=\"#fdf0e3\" /><g stroke=\"black\"><rect x=\"20\" y=\"10\" width=\"181\" height=\"181\" fill=\"none\" stroke-width=\"1.5\" /><line x1=\"20.5\" y1=\"30.5\" x2=\"200.5\" y2=\"30.5\" stroke-width=\"1.0\" /><line x1=\"20.5\" y1=\"50.5\" x2=\"200.5\" y2=\"50.5\" stroke-width=\"1.0\" /><line x1=\"20.5\" y1=\"70.5\" x2=\"200.5\" y2=\"70.5\" stroke-width=\"1.0\" /><line x1=\"20.5\" y1=\"90.5\" x2=\"200.5\" y2=\"90.5\" stroke-width=\"1.0\" /><line x1=\"20.5\" y1=\"110.5\" x2=\"200.5\" y2=\"110.5\" stroke-width=\"1.0\" /><line x1=\"20.5\" y1=\"130.5\" x2=\"200.5\" y2=\"130.5\" stroke-width=\"1.0\" /><line x1=\"20.5\" y1=\"150.5\" x2=\"200.5\" y2=\"150.5\" stroke-width=\"1.0\" /><line x1=\"20.5\" y1=\"170.5\" x2=\"200.5\" y2=\"170.5\" stroke-width=\"1.0\" /><line x1=\"40.5\" y1=\"10.5\" x2=\"40.5\" y2=\"190.5\" stroke-width=\"1.0\" /><line x1=\"60.5\" y1=\"10.5\" x2=\"60.5\" y2=\"190.5\" stroke-width=\"1.0\" /><line x1=\"80.5\" y1=\"10.5\" x2=\"80.5\" y2=\"190.5\" stroke-width=\"1.0\" /><line x1=\"100.5\" y1=\"10.5\" x2=\"100.5\" y2=\"190.5\" stroke-width=\"1.0\" /><line x1=\"120.5\" y1=\"10.5\" x2=\"120.5\" y2=\"190.5\" stroke-width=\"1.0\" /><line x1=\"140.5\" y1=\"10.5\" x2=\"140.5\" y2=\"190.5\" stroke-width=\"1.0\" /><line x1=\"160.5\" y1=\"10.5\" x2=\"160.5\" y2=\"190.5\" stroke-width=\"1.0\" /><line x1=\"180.5\" y1=\"10.5\" x2=\"180.5\" y2=\"190.5\" stroke-width=\"1.0\" /></g><g><text font-family=\"serif\" text-anchor=\"middle\" font-size=\"9\" x=\"30.5\" y=\"8\">9</text><text font-family=\"serif\" text-anchor=\"middle\" font-size=\"9\" x=\"50.5\" y=\"8\">8</text><text font-family=\"serif\" text-anchor=\"middle\" font-size=\"9\" x=\"70.5\" y=\"8\">7</text><text font-family=\"serif\" text-anchor=\"middle\" font-size=\"9\" x=\"90.5\" y=\"8\">6</text><text font-family=\"serif\" text-anchor=\"middle\" font-size=\"9\" x=\"110.5\" y=\"8\">5</text><text font-family=\"serif\" text-anchor=\"middle\" font-size=\"9\" x=\"130.5\" y=\"8\">4</text><text font-family=\"serif\" text-anchor=\"middle\" font-size=\"9\" x=\"150.5\" y=\"8\">3</text><text font-family=\"serif\" text-anchor=\"middle\" font-size=\"9\" x=\"170.5\" y=\"8\">2</text><text font-family=\"serif\" text-anchor=\"middle\" font-size=\"9\" x=\"190.5\" y=\"8\">1</text><text font-family=\"serif\" font-size=\"9\" x=\"203.5\" y=\"23\">&#19968;</text><text font-family=\"serif\" font-size=\"9\" x=\"203.5\" y=\"43\">&#20108;</text><text font-family=\"serif\" font-size=\"9\" x=\"203.5\" y=\"63\">&#19977;</text><text font-family=\"serif\" font-size=\"9\" x=\"203.5\" y=\"83\">&#22235;</text><text font-family=\"serif\" font-size=\"9\" x=\"203.5\" y=\"103\">&#20116;</text><text font-family=\"serif\" font-size=\"9\" x=\"203.5\" y=\"123\">&#20845;</text><text font-family=\"serif\" font-size=\"9\" x=\"203.5\" y=\"143\">&#19971;</text><text font-family=\"serif\" font-size=\"9\" x=\"203.5\" y=\"163\">&#20843;</text><text font-family=\"serif\" font-size=\"9\" x=\"203.5\" y=\"183\">&#20061;</text></g><use xlink:href=\"#white-lance\" x=\"180.5\" y=\"10.5\" /><use xlink:href=\"#white-pawn\" x=\"180.5\" y=\"70.5\" /><use xlink:href=\"#black-pawn\" x=\"180.5\" y=\"110.5\" /><use xlink:href=\"#black-lance\" x=\"180.5\" y=\"170.5\" /><use xlink:href=\"#white-knight\" x=\"160.5\" y=\"10.5\" /><use xlink:href=\"#white-bishop\" x=\"160.5\" y=\"30.5\" /><use xlink:href=\"#white-pawn\" x=\"160.5\" y=\"50.5\" /><use xlink:href=\"#black-pawn\" x=\"160.5\" y=\"130.5\" /><use xlink:href=\"#black-rook\" x=\"160.5\" y=\"150.5\" /><use xlink:href=\"#black-knight\" x=\"160.5\" y=\"170.5\" /><use xlink:href=\"#white-silver\" x=\"140.5\" y=\"10.5\" /><use xlink:href=\"#white-pawn\" x=\"140.5\" y=\"50.5\" /><use xlink:href=\"#black-pawn\" x=\"140.5\" y=\"130.5\" /><use xlink:href=\"#black-silver\" x=\"140.5\" y=\"170.5\" /><use xlink:href=\"#white-gold\" x=\"120.5\" y=\"10.5\" /><use xlink:href=\"#white-pawn\" x=\"120.5\" y=\"50.5\" /><use xlink:href=\"#black-pawn\" x=\"120.5\" y=\"130.5\" /><use xlink:href=\"#black-gold\" x=\"120.5\" y=\"170.5\" /><use xlink:href=\"#white-king\" x=\"100.5\" y=\"10.5\" /><use xlink:href=\"#white-pawn\" x=\"100.5\" y=\"50.5\" /><use xlink:href=\"#black-pawn\" x=\"100.5\" y=\"130.5\" /><use xlink:href=\"#black-king\" x=\"100.5\" y=\"170.5\" /><use xlink:href=\"#white-gold\" x=\"80.5\" y=\"10.5\" /><use xlink:href=\"#white-pawn\" x=\"80.5\" y=\"50.5\" /><use xlink:href=\"#black-pawn\" x=\"80.5\" y=\"130.5\" /><use xlink:href=\"#black-gold\" x=\"80.5\" y=\"170.5\" /><use xlink:href=\"#white-silver\" x=\"60.5\" y=\"10.5\" /><use xlink:href=\"#white-pawn\" x=\"60.5\" y=\"50.5\" /><use xlink:href=\"#black-pawn\" x=\"60.5\" y=\"130.5\" /><use xlink:href=\"#black-silver\" x=\"60.5\" y=\"170.5\" /><use xlink:href=\"#white-knight\" x=\"40.5\" y=\"10.5\" /><use xlink:href=\"#white-rook\" x=\"40.5\" y=\"30.5\" /><use xlink:href=\"#white-pawn\" x=\"40.5\" y=\"50.5\" /><use xlink:href=\"#black-pawn\" x=\"40.5\" y=\"130.5\" /><use xlink:href=\"#black-bishop\" x=\"40.5\" y=\"150.5\" /><use xlink:href=\"#black-knight\" x=\"40.5\" y=\"170.5\" /><use xlink:href=\"#white-lance\" x=\"20.5\" y=\"10.5\" /><use xlink:href=\"#white-pawn\" x=\"20.5\" y=\"50.5\" /><use xlink:href=\"#black-pawn\" x=\"20.5\" y=\"130.5\" /><use xlink:href=\"#black-lance\" x=\"20.5\" y=\"170.5\" /><text font-family=\"serif\" font-size=\"14\" x=\"214\" y=\"176\">&#25163;</text><text font-family=\"serif\" font-size=\"14\" x=\"214\" y=\"162\">&#20808;</text><text font-family=\"serif\" font-size=\"14\" x=\"214\" y=\"148\">&#9751;</text><text font-family=\"serif\" font-size=\"14\" x=\"-16\" y=\"-24\" transform=\"rotate(180)\">&#25163;</text><text font-family=\"serif\" font-size=\"14\" x=\"-16\" y=\"-38\" transform=\"rotate(180)\">&#24460;</text><text font-family=\"serif\" font-size=\"14\" x=\"-16\" y=\"-52\" transform=\"rotate(180)\">&#9750;</text></svg>"
      ],
      "text/plain": [
       "'  9  8  7  6  5  4  3  2  1\n",
       "P1-KY-KE-GI-KI-OU-KI-GI-KE-KY\n",
       "P2 * -HI *  *  *  *  * -KA * \n",
       "P3-FU-FU-FU-FU-FU-FU-FU-FU * \n",
       "P4 *  *  *  *  *  *  *  * -FU\n",
       "P5 *  *  *  *  *  *  *  *  * \n",
       "P6 *  *  *  *  *  *  *  * +FU\n",
       "P7+FU+FU+FU+FU+FU+FU+FU+FU * \n",
       "P8 * +KA *  *  *  *  * +HI * \n",
       "P9+KY+KE+GI+KI+OU+KI+GI+KE+KY\n",
       "+"
      ]
     },
     "execution_count": 8,
     "metadata": {},
     "output_type": "execute_result"
    }
   ],
   "source": [
    "board"
   ]
  },
  {
   "cell_type": "code",
   "execution_count": 9,
   "metadata": {},
   "outputs": [],
   "source": [
    "for i in range(2):\n",
    "    board.pop()"
   ]
  },
  {
   "cell_type": "code",
   "execution_count": 10,
   "metadata": {},
   "outputs": [
    {
     "data": {
      "image/svg+xml": [
       "<svg xmlns=\"http://www.w3.org/2000/svg\" version=\"1.1\" xmlns:xlink=\"http://www.w3.org/1999/xlink\" width=\"230.0\" height=\"192.0\" viewBox=\"0 0 230 192\"><defs><g id=\"black-pawn\"><text font-family=\"serif\" font-size=\"17\" text-anchor=\"middle\" x=\"10.5\" y=\"16.5\">&#27497;</text></g><g id=\"black-lance\"><text font-family=\"serif\" font-size=\"17\" text-anchor=\"middle\" x=\"10.5\" y=\"16.5\">&#39321;</text></g><g id=\"black-knight\"><text font-family=\"serif\" font-size=\"17\" text-anchor=\"middle\" x=\"10.5\" y=\"16.5\">&#26690;</text></g><g id=\"black-silver\"><text font-family=\"serif\" font-size=\"17\" text-anchor=\"middle\" x=\"10.5\" y=\"16.5\">&#37504;</text></g><g id=\"black-gold\"><text font-family=\"serif\" font-size=\"17\" text-anchor=\"middle\" x=\"10.5\" y=\"16.5\">&#37329;</text></g><g id=\"black-bishop\"><text font-family=\"serif\" font-size=\"17\" text-anchor=\"middle\" x=\"10.5\" y=\"16.5\">&#35282;</text></g><g id=\"black-rook\"><text font-family=\"serif\" font-size=\"17\" text-anchor=\"middle\" x=\"10.5\" y=\"16.5\">&#39131;</text></g><g id=\"black-king\"><text font-family=\"serif\" font-size=\"17\" text-anchor=\"middle\" x=\"10.5\" y=\"16.5\">&#29579;</text></g><g id=\"black-pro-pawn\"><text font-family=\"serif\" font-size=\"17\" text-anchor=\"middle\" x=\"10.5\" y=\"16.5\">&#12392;</text></g><g id=\"black-pro-lance\" transform=\"scale(1.0, 0.5)\"><text font-family=\"serif\" font-size=\"17\" text-anchor=\"middle\" x=\"10.5\" y=\"18\">&#25104;</text><text font-family=\"serif\" font-size=\"17\" text-anchor=\"middle\" x=\"10.5\" y=\"34\">&#39321;</text></g><g id=\"black-pro-knight\" transform=\"scale(1.0, 0.5)\"><text font-family=\"serif\" font-size=\"17\" text-anchor=\"middle\" x=\"10.5\" y=\"18\">&#25104;</text><text font-family=\"serif\" font-size=\"17\" text-anchor=\"middle\" x=\"10.5\" y=\"34\">&#26690;</text></g><g id=\"black-pro-silver\" transform=\"scale(1.0, 0.5)\"><text font-family=\"serif\" font-size=\"17\" text-anchor=\"middle\" x=\"10.5\" y=\"18\">&#25104;</text><text font-family=\"serif\" font-size=\"17\" text-anchor=\"middle\" x=\"10.5\" y=\"34\">&#37504;</text></g><g id=\"black-horse\"><text font-family=\"serif\" font-size=\"17\" text-anchor=\"middle\" x=\"10.5\" y=\"16.5\">&#39340;</text></g><g id=\"black-dragon\"><text font-family=\"serif\" font-size=\"17\" text-anchor=\"middle\" x=\"10.5\" y=\"16.5\">&#40845;</text></g><g id=\"white-pawn\" transform=\"rotate(180)\"><text font-family=\"serif\" font-size=\"17\" text-anchor=\"middle\" x=\"-10.5\" y=\"-3.5\">&#27497;</text></g><g id=\"white-lance\" transform=\"rotate(180)\"><text font-family=\"serif\" font-size=\"17\" text-anchor=\"middle\" x=\"-10.5\" y=\"-3.5\">&#39321;</text></g><g id=\"white-knight\" transform=\"rotate(180)\"><text font-family=\"serif\" font-size=\"17\" text-anchor=\"middle\" x=\"-10.5\" y=\"-3.5\">&#26690;</text></g><g id=\"white-silver\" transform=\"rotate(180)\"><text font-family=\"serif\" font-size=\"17\" text-anchor=\"middle\" x=\"-10.5\" y=\"-3.5\">&#37504;</text></g><g id=\"white-gold\" transform=\"rotate(180)\"><text font-family=\"serif\" font-size=\"17\" text-anchor=\"middle\" x=\"-10.5\" y=\"-3.5\">&#37329;</text></g><g id=\"white-bishop\" transform=\"rotate(180)\"><text font-family=\"serif\" font-size=\"17\" text-anchor=\"middle\" x=\"-10.5\" y=\"-3.5\">&#35282;</text></g><g id=\"white-rook\" transform=\"rotate(180)\"><text font-family=\"serif\" font-size=\"17\" text-anchor=\"middle\" x=\"-10.5\" y=\"-3.5\">&#39131;</text></g><g id=\"white-king\" transform=\"rotate(180)\"><text font-family=\"serif\" font-size=\"17\" text-anchor=\"middle\" x=\"-10.5\" y=\"-3.5\">&#29579;</text></g><g id=\"white-pro-pawn\" transform=\"rotate(180)\"><text font-family=\"serif\" font-size=\"17\" text-anchor=\"middle\" x=\"-10.5\" y=\"-3.5\">&#12392;</text></g><g id=\"white-pro-lance\" transform=\"scale(1.0, 0.5) rotate(180)\"><text font-family=\"serif\" font-size=\"17\" text-anchor=\"middle\" x=\"-10.5\" y=\"-22\">&#25104;</text><text font-family=\"serif\" font-size=\"17\" text-anchor=\"middle\" x=\"-10.5\" y=\"-6\">&#39321;</text></g><g id=\"white-pro-knight\" transform=\"scale(1.0, 0.5) rotate(180)\"><text font-family=\"serif\" font-size=\"17\" text-anchor=\"middle\" x=\"-10.5\" y=\"-22\">&#25104;</text><text font-family=\"serif\" font-size=\"17\" text-anchor=\"middle\" x=\"-10.5\" y=\"-6\">&#26690;</text></g><g id=\"white-pro-silver\" transform=\"scale(1.0, 0.5) rotate(180)\"><text font-family=\"serif\" font-size=\"17\" text-anchor=\"middle\" x=\"-10.5\" y=\"-22\">&#25104;</text><text font-family=\"serif\" font-size=\"17\" text-anchor=\"middle\" x=\"-10.5\" y=\"-6\">&#37504;</text></g><g id=\"white-horse\" transform=\"rotate(180)\"><text font-family=\"serif\" font-size=\"17\" text-anchor=\"middle\" x=\"-10.5\" y=\"-3.5\">&#39340;</text></g><g id=\"white-dragon\" transform=\"rotate(180)\"><text font-family=\"serif\" font-size=\"17\" text-anchor=\"middle\" x=\"-10.5\" y=\"-3.5\">&#40845;</text></g></defs><g stroke=\"black\"><rect x=\"20\" y=\"10\" width=\"181\" height=\"181\" fill=\"none\" stroke-width=\"1.5\" /><line x1=\"20.5\" y1=\"30.5\" x2=\"200.5\" y2=\"30.5\" stroke-width=\"1.0\" /><line x1=\"20.5\" y1=\"50.5\" x2=\"200.5\" y2=\"50.5\" stroke-width=\"1.0\" /><line x1=\"20.5\" y1=\"70.5\" x2=\"200.5\" y2=\"70.5\" stroke-width=\"1.0\" /><line x1=\"20.5\" y1=\"90.5\" x2=\"200.5\" y2=\"90.5\" stroke-width=\"1.0\" /><line x1=\"20.5\" y1=\"110.5\" x2=\"200.5\" y2=\"110.5\" stroke-width=\"1.0\" /><line x1=\"20.5\" y1=\"130.5\" x2=\"200.5\" y2=\"130.5\" stroke-width=\"1.0\" /><line x1=\"20.5\" y1=\"150.5\" x2=\"200.5\" y2=\"150.5\" stroke-width=\"1.0\" /><line x1=\"20.5\" y1=\"170.5\" x2=\"200.5\" y2=\"170.5\" stroke-width=\"1.0\" /><line x1=\"40.5\" y1=\"10.5\" x2=\"40.5\" y2=\"190.5\" stroke-width=\"1.0\" /><line x1=\"60.5\" y1=\"10.5\" x2=\"60.5\" y2=\"190.5\" stroke-width=\"1.0\" /><line x1=\"80.5\" y1=\"10.5\" x2=\"80.5\" y2=\"190.5\" stroke-width=\"1.0\" /><line x1=\"100.5\" y1=\"10.5\" x2=\"100.5\" y2=\"190.5\" stroke-width=\"1.0\" /><line x1=\"120.5\" y1=\"10.5\" x2=\"120.5\" y2=\"190.5\" stroke-width=\"1.0\" /><line x1=\"140.5\" y1=\"10.5\" x2=\"140.5\" y2=\"190.5\" stroke-width=\"1.0\" /><line x1=\"160.5\" y1=\"10.5\" x2=\"160.5\" y2=\"190.5\" stroke-width=\"1.0\" /><line x1=\"180.5\" y1=\"10.5\" x2=\"180.5\" y2=\"190.5\" stroke-width=\"1.0\" /></g><g><text font-family=\"serif\" text-anchor=\"middle\" font-size=\"9\" x=\"30.5\" y=\"8\">9</text><text font-family=\"serif\" text-anchor=\"middle\" font-size=\"9\" x=\"50.5\" y=\"8\">8</text><text font-family=\"serif\" text-anchor=\"middle\" font-size=\"9\" x=\"70.5\" y=\"8\">7</text><text font-family=\"serif\" text-anchor=\"middle\" font-size=\"9\" x=\"90.5\" y=\"8\">6</text><text font-family=\"serif\" text-anchor=\"middle\" font-size=\"9\" x=\"110.5\" y=\"8\">5</text><text font-family=\"serif\" text-anchor=\"middle\" font-size=\"9\" x=\"130.5\" y=\"8\">4</text><text font-family=\"serif\" text-anchor=\"middle\" font-size=\"9\" x=\"150.5\" y=\"8\">3</text><text font-family=\"serif\" text-anchor=\"middle\" font-size=\"9\" x=\"170.5\" y=\"8\">2</text><text font-family=\"serif\" text-anchor=\"middle\" font-size=\"9\" x=\"190.5\" y=\"8\">1</text><text font-family=\"serif\" font-size=\"9\" x=\"203.5\" y=\"23\">&#19968;</text><text font-family=\"serif\" font-size=\"9\" x=\"203.5\" y=\"43\">&#20108;</text><text font-family=\"serif\" font-size=\"9\" x=\"203.5\" y=\"63\">&#19977;</text><text font-family=\"serif\" font-size=\"9\" x=\"203.5\" y=\"83\">&#22235;</text><text font-family=\"serif\" font-size=\"9\" x=\"203.5\" y=\"103\">&#20116;</text><text font-family=\"serif\" font-size=\"9\" x=\"203.5\" y=\"123\">&#20845;</text><text font-family=\"serif\" font-size=\"9\" x=\"203.5\" y=\"143\">&#19971;</text><text font-family=\"serif\" font-size=\"9\" x=\"203.5\" y=\"163\">&#20843;</text><text font-family=\"serif\" font-size=\"9\" x=\"203.5\" y=\"183\">&#20061;</text></g><use xlink:href=\"#white-lance\" x=\"180.5\" y=\"10.5\" /><use xlink:href=\"#white-pawn\" x=\"180.5\" y=\"50.5\" /><use xlink:href=\"#black-pawn\" x=\"180.5\" y=\"130.5\" /><use xlink:href=\"#black-lance\" x=\"180.5\" y=\"170.5\" /><use xlink:href=\"#white-knight\" x=\"160.5\" y=\"10.5\" /><use xlink:href=\"#white-bishop\" x=\"160.5\" y=\"30.5\" /><use xlink:href=\"#white-pawn\" x=\"160.5\" y=\"50.5\" /><use xlink:href=\"#black-pawn\" x=\"160.5\" y=\"130.5\" /><use xlink:href=\"#black-rook\" x=\"160.5\" y=\"150.5\" /><use xlink:href=\"#black-knight\" x=\"160.5\" y=\"170.5\" /><use xlink:href=\"#white-silver\" x=\"140.5\" y=\"10.5\" /><use xlink:href=\"#white-pawn\" x=\"140.5\" y=\"50.5\" /><use xlink:href=\"#black-pawn\" x=\"140.5\" y=\"130.5\" /><use xlink:href=\"#black-silver\" x=\"140.5\" y=\"170.5\" /><use xlink:href=\"#white-gold\" x=\"120.5\" y=\"10.5\" /><use xlink:href=\"#white-pawn\" x=\"120.5\" y=\"50.5\" /><use xlink:href=\"#black-pawn\" x=\"120.5\" y=\"130.5\" /><use xlink:href=\"#black-gold\" x=\"120.5\" y=\"170.5\" /><use xlink:href=\"#white-king\" x=\"100.5\" y=\"10.5\" /><use xlink:href=\"#white-pawn\" x=\"100.5\" y=\"50.5\" /><use xlink:href=\"#black-pawn\" x=\"100.5\" y=\"130.5\" /><use xlink:href=\"#black-king\" x=\"100.5\" y=\"170.5\" /><use xlink:href=\"#white-gold\" x=\"80.5\" y=\"10.5\" /><use xlink:href=\"#white-pawn\" x=\"80.5\" y=\"50.5\" /><use xlink:href=\"#black-pawn\" x=\"80.5\" y=\"130.5\" /><use xlink:href=\"#black-gold\" x=\"80.5\" y=\"170.5\" /><use xlink:href=\"#white-silver\" x=\"60.5\" y=\"10.5\" /><use xlink:href=\"#white-pawn\" x=\"60.5\" y=\"50.5\" /><use xlink:href=\"#black-pawn\" x=\"60.5\" y=\"130.5\" /><use xlink:href=\"#black-silver\" x=\"60.5\" y=\"170.5\" /><use xlink:href=\"#white-knight\" x=\"40.5\" y=\"10.5\" /><use xlink:href=\"#white-rook\" x=\"40.5\" y=\"30.5\" /><use xlink:href=\"#white-pawn\" x=\"40.5\" y=\"50.5\" /><use xlink:href=\"#black-pawn\" x=\"40.5\" y=\"130.5\" /><use xlink:href=\"#black-bishop\" x=\"40.5\" y=\"150.5\" /><use xlink:href=\"#black-knight\" x=\"40.5\" y=\"170.5\" /><use xlink:href=\"#white-lance\" x=\"20.5\" y=\"10.5\" /><use xlink:href=\"#white-pawn\" x=\"20.5\" y=\"50.5\" /><use xlink:href=\"#black-pawn\" x=\"20.5\" y=\"130.5\" /><use xlink:href=\"#black-lance\" x=\"20.5\" y=\"170.5\" /><text font-family=\"serif\" font-size=\"14\" x=\"214\" y=\"176\">&#25163;</text><text font-family=\"serif\" font-size=\"14\" x=\"214\" y=\"162\">&#20808;</text><text font-family=\"serif\" font-size=\"14\" x=\"214\" y=\"148\">&#9751;</text><text font-family=\"serif\" font-size=\"14\" x=\"-16\" y=\"-24\" transform=\"rotate(180)\">&#25163;</text><text font-family=\"serif\" font-size=\"14\" x=\"-16\" y=\"-38\" transform=\"rotate(180)\">&#24460;</text><text font-family=\"serif\" font-size=\"14\" x=\"-16\" y=\"-52\" transform=\"rotate(180)\">&#9750;</text></svg>"
      ],
      "text/plain": [
       "'  9  8  7  6  5  4  3  2  1\n",
       "P1-KY-KE-GI-KI-OU-KI-GI-KE-KY\n",
       "P2 * -HI *  *  *  *  * -KA * \n",
       "P3-FU-FU-FU-FU-FU-FU-FU-FU-FU\n",
       "P4 *  *  *  *  *  *  *  *  * \n",
       "P5 *  *  *  *  *  *  *  *  * \n",
       "P6 *  *  *  *  *  *  *  *  * \n",
       "P7+FU+FU+FU+FU+FU+FU+FU+FU+FU\n",
       "P8 * +KA *  *  *  *  * +HI * \n",
       "P9+KY+KE+GI+KI+OU+KI+GI+KE+KY\n",
       "+"
      ]
     },
     "execution_count": 10,
     "metadata": {},
     "output_type": "execute_result"
    }
   ],
   "source": [
    "board"
   ]
  },
  {
   "cell_type": "code",
   "execution_count": 11,
   "metadata": {},
   "outputs": [
    {
     "name": "stdout",
     "output_type": "stream",
     "text": [
      "False\n",
      "False\n",
      "False\n",
      "0\n"
     ]
    }
   ],
   "source": [
    "print(board.is_check())\n",
    "print(board.is_game_over())\n",
    "print(board.is_nyugyoku())\n",
    "print(board.is_draw())"
   ]
  },
  {
   "cell_type": "code",
   "execution_count": 15,
   "metadata": {},
   "outputs": [],
   "source": [
    "board = cshogi.Board()\n",
    "while True:\n",
    "    if board.is_game_over():\n",
    "        break\n",
    "    move = np.random.choice(list(board.legal_moves))\n",
    "    board.push(move)"
   ]
  },
  {
   "cell_type": "code",
   "execution_count": 38,
   "metadata": {},
   "outputs": [],
   "source": [
    "board.reset()"
   ]
  },
  {
   "cell_type": "code",
   "execution_count": 39,
   "metadata": {},
   "outputs": [
    {
     "data": {
      "image/svg+xml": [
       "<svg xmlns=\"http://www.w3.org/2000/svg\" version=\"1.1\" xmlns:xlink=\"http://www.w3.org/1999/xlink\" width=\"230.0\" height=\"192.0\" viewBox=\"0 0 230 192\"><defs><g id=\"black-pawn\"><text font-family=\"serif\" font-size=\"17\" text-anchor=\"middle\" x=\"10.5\" y=\"16.5\">&#27497;</text></g><g id=\"black-lance\"><text font-family=\"serif\" font-size=\"17\" text-anchor=\"middle\" x=\"10.5\" y=\"16.5\">&#39321;</text></g><g id=\"black-knight\"><text font-family=\"serif\" font-size=\"17\" text-anchor=\"middle\" x=\"10.5\" y=\"16.5\">&#26690;</text></g><g id=\"black-silver\"><text font-family=\"serif\" font-size=\"17\" text-anchor=\"middle\" x=\"10.5\" y=\"16.5\">&#37504;</text></g><g id=\"black-gold\"><text font-family=\"serif\" font-size=\"17\" text-anchor=\"middle\" x=\"10.5\" y=\"16.5\">&#37329;</text></g><g id=\"black-bishop\"><text font-family=\"serif\" font-size=\"17\" text-anchor=\"middle\" x=\"10.5\" y=\"16.5\">&#35282;</text></g><g id=\"black-rook\"><text font-family=\"serif\" font-size=\"17\" text-anchor=\"middle\" x=\"10.5\" y=\"16.5\">&#39131;</text></g><g id=\"black-king\"><text font-family=\"serif\" font-size=\"17\" text-anchor=\"middle\" x=\"10.5\" y=\"16.5\">&#29579;</text></g><g id=\"black-pro-pawn\"><text font-family=\"serif\" font-size=\"17\" text-anchor=\"middle\" x=\"10.5\" y=\"16.5\">&#12392;</text></g><g id=\"black-pro-lance\" transform=\"scale(1.0, 0.5)\"><text font-family=\"serif\" font-size=\"17\" text-anchor=\"middle\" x=\"10.5\" y=\"18\">&#25104;</text><text font-family=\"serif\" font-size=\"17\" text-anchor=\"middle\" x=\"10.5\" y=\"34\">&#39321;</text></g><g id=\"black-pro-knight\" transform=\"scale(1.0, 0.5)\"><text font-family=\"serif\" font-size=\"17\" text-anchor=\"middle\" x=\"10.5\" y=\"18\">&#25104;</text><text font-family=\"serif\" font-size=\"17\" text-anchor=\"middle\" x=\"10.5\" y=\"34\">&#26690;</text></g><g id=\"black-pro-silver\" transform=\"scale(1.0, 0.5)\"><text font-family=\"serif\" font-size=\"17\" text-anchor=\"middle\" x=\"10.5\" y=\"18\">&#25104;</text><text font-family=\"serif\" font-size=\"17\" text-anchor=\"middle\" x=\"10.5\" y=\"34\">&#37504;</text></g><g id=\"black-horse\"><text font-family=\"serif\" font-size=\"17\" text-anchor=\"middle\" x=\"10.5\" y=\"16.5\">&#39340;</text></g><g id=\"black-dragon\"><text font-family=\"serif\" font-size=\"17\" text-anchor=\"middle\" x=\"10.5\" y=\"16.5\">&#40845;</text></g><g id=\"white-pawn\" transform=\"rotate(180)\"><text font-family=\"serif\" font-size=\"17\" text-anchor=\"middle\" x=\"-10.5\" y=\"-3.5\">&#27497;</text></g><g id=\"white-lance\" transform=\"rotate(180)\"><text font-family=\"serif\" font-size=\"17\" text-anchor=\"middle\" x=\"-10.5\" y=\"-3.5\">&#39321;</text></g><g id=\"white-knight\" transform=\"rotate(180)\"><text font-family=\"serif\" font-size=\"17\" text-anchor=\"middle\" x=\"-10.5\" y=\"-3.5\">&#26690;</text></g><g id=\"white-silver\" transform=\"rotate(180)\"><text font-family=\"serif\" font-size=\"17\" text-anchor=\"middle\" x=\"-10.5\" y=\"-3.5\">&#37504;</text></g><g id=\"white-gold\" transform=\"rotate(180)\"><text font-family=\"serif\" font-size=\"17\" text-anchor=\"middle\" x=\"-10.5\" y=\"-3.5\">&#37329;</text></g><g id=\"white-bishop\" transform=\"rotate(180)\"><text font-family=\"serif\" font-size=\"17\" text-anchor=\"middle\" x=\"-10.5\" y=\"-3.5\">&#35282;</text></g><g id=\"white-rook\" transform=\"rotate(180)\"><text font-family=\"serif\" font-size=\"17\" text-anchor=\"middle\" x=\"-10.5\" y=\"-3.5\">&#39131;</text></g><g id=\"white-king\" transform=\"rotate(180)\"><text font-family=\"serif\" font-size=\"17\" text-anchor=\"middle\" x=\"-10.5\" y=\"-3.5\">&#29579;</text></g><g id=\"white-pro-pawn\" transform=\"rotate(180)\"><text font-family=\"serif\" font-size=\"17\" text-anchor=\"middle\" x=\"-10.5\" y=\"-3.5\">&#12392;</text></g><g id=\"white-pro-lance\" transform=\"scale(1.0, 0.5) rotate(180)\"><text font-family=\"serif\" font-size=\"17\" text-anchor=\"middle\" x=\"-10.5\" y=\"-22\">&#25104;</text><text font-family=\"serif\" font-size=\"17\" text-anchor=\"middle\" x=\"-10.5\" y=\"-6\">&#39321;</text></g><g id=\"white-pro-knight\" transform=\"scale(1.0, 0.5) rotate(180)\"><text font-family=\"serif\" font-size=\"17\" text-anchor=\"middle\" x=\"-10.5\" y=\"-22\">&#25104;</text><text font-family=\"serif\" font-size=\"17\" text-anchor=\"middle\" x=\"-10.5\" y=\"-6\">&#26690;</text></g><g id=\"white-pro-silver\" transform=\"scale(1.0, 0.5) rotate(180)\"><text font-family=\"serif\" font-size=\"17\" text-anchor=\"middle\" x=\"-10.5\" y=\"-22\">&#25104;</text><text font-family=\"serif\" font-size=\"17\" text-anchor=\"middle\" x=\"-10.5\" y=\"-6\">&#37504;</text></g><g id=\"white-horse\" transform=\"rotate(180)\"><text font-family=\"serif\" font-size=\"17\" text-anchor=\"middle\" x=\"-10.5\" y=\"-3.5\">&#39340;</text></g><g id=\"white-dragon\" transform=\"rotate(180)\"><text font-family=\"serif\" font-size=\"17\" text-anchor=\"middle\" x=\"-10.5\" y=\"-3.5\">&#40845;</text></g></defs><g stroke=\"black\"><rect x=\"20\" y=\"10\" width=\"181\" height=\"181\" fill=\"none\" stroke-width=\"1.5\" /><line x1=\"20.5\" y1=\"30.5\" x2=\"200.5\" y2=\"30.5\" stroke-width=\"1.0\" /><line x1=\"20.5\" y1=\"50.5\" x2=\"200.5\" y2=\"50.5\" stroke-width=\"1.0\" /><line x1=\"20.5\" y1=\"70.5\" x2=\"200.5\" y2=\"70.5\" stroke-width=\"1.0\" /><line x1=\"20.5\" y1=\"90.5\" x2=\"200.5\" y2=\"90.5\" stroke-width=\"1.0\" /><line x1=\"20.5\" y1=\"110.5\" x2=\"200.5\" y2=\"110.5\" stroke-width=\"1.0\" /><line x1=\"20.5\" y1=\"130.5\" x2=\"200.5\" y2=\"130.5\" stroke-width=\"1.0\" /><line x1=\"20.5\" y1=\"150.5\" x2=\"200.5\" y2=\"150.5\" stroke-width=\"1.0\" /><line x1=\"20.5\" y1=\"170.5\" x2=\"200.5\" y2=\"170.5\" stroke-width=\"1.0\" /><line x1=\"40.5\" y1=\"10.5\" x2=\"40.5\" y2=\"190.5\" stroke-width=\"1.0\" /><line x1=\"60.5\" y1=\"10.5\" x2=\"60.5\" y2=\"190.5\" stroke-width=\"1.0\" /><line x1=\"80.5\" y1=\"10.5\" x2=\"80.5\" y2=\"190.5\" stroke-width=\"1.0\" /><line x1=\"100.5\" y1=\"10.5\" x2=\"100.5\" y2=\"190.5\" stroke-width=\"1.0\" /><line x1=\"120.5\" y1=\"10.5\" x2=\"120.5\" y2=\"190.5\" stroke-width=\"1.0\" /><line x1=\"140.5\" y1=\"10.5\" x2=\"140.5\" y2=\"190.5\" stroke-width=\"1.0\" /><line x1=\"160.5\" y1=\"10.5\" x2=\"160.5\" y2=\"190.5\" stroke-width=\"1.0\" /><line x1=\"180.5\" y1=\"10.5\" x2=\"180.5\" y2=\"190.5\" stroke-width=\"1.0\" /></g><g><text font-family=\"serif\" text-anchor=\"middle\" font-size=\"9\" x=\"30.5\" y=\"8\">9</text><text font-family=\"serif\" text-anchor=\"middle\" font-size=\"9\" x=\"50.5\" y=\"8\">8</text><text font-family=\"serif\" text-anchor=\"middle\" font-size=\"9\" x=\"70.5\" y=\"8\">7</text><text font-family=\"serif\" text-anchor=\"middle\" font-size=\"9\" x=\"90.5\" y=\"8\">6</text><text font-family=\"serif\" text-anchor=\"middle\" font-size=\"9\" x=\"110.5\" y=\"8\">5</text><text font-family=\"serif\" text-anchor=\"middle\" font-size=\"9\" x=\"130.5\" y=\"8\">4</text><text font-family=\"serif\" text-anchor=\"middle\" font-size=\"9\" x=\"150.5\" y=\"8\">3</text><text font-family=\"serif\" text-anchor=\"middle\" font-size=\"9\" x=\"170.5\" y=\"8\">2</text><text font-family=\"serif\" text-anchor=\"middle\" font-size=\"9\" x=\"190.5\" y=\"8\">1</text><text font-family=\"serif\" font-size=\"9\" x=\"203.5\" y=\"23\">&#19968;</text><text font-family=\"serif\" font-size=\"9\" x=\"203.5\" y=\"43\">&#20108;</text><text font-family=\"serif\" font-size=\"9\" x=\"203.5\" y=\"63\">&#19977;</text><text font-family=\"serif\" font-size=\"9\" x=\"203.5\" y=\"83\">&#22235;</text><text font-family=\"serif\" font-size=\"9\" x=\"203.5\" y=\"103\">&#20116;</text><text font-family=\"serif\" font-size=\"9\" x=\"203.5\" y=\"123\">&#20845;</text><text font-family=\"serif\" font-size=\"9\" x=\"203.5\" y=\"143\">&#19971;</text><text font-family=\"serif\" font-size=\"9\" x=\"203.5\" y=\"163\">&#20843;</text><text font-family=\"serif\" font-size=\"9\" x=\"203.5\" y=\"183\">&#20061;</text></g><use xlink:href=\"#white-lance\" x=\"180.5\" y=\"10.5\" /><use xlink:href=\"#white-pawn\" x=\"180.5\" y=\"50.5\" /><use xlink:href=\"#black-pawn\" x=\"180.5\" y=\"130.5\" /><use xlink:href=\"#black-lance\" x=\"180.5\" y=\"170.5\" /><use xlink:href=\"#white-knight\" x=\"160.5\" y=\"10.5\" /><use xlink:href=\"#white-bishop\" x=\"160.5\" y=\"30.5\" /><use xlink:href=\"#white-pawn\" x=\"160.5\" y=\"50.5\" /><use xlink:href=\"#black-pawn\" x=\"160.5\" y=\"130.5\" /><use xlink:href=\"#black-rook\" x=\"160.5\" y=\"150.5\" /><use xlink:href=\"#black-knight\" x=\"160.5\" y=\"170.5\" /><use xlink:href=\"#white-silver\" x=\"140.5\" y=\"10.5\" /><use xlink:href=\"#white-pawn\" x=\"140.5\" y=\"50.5\" /><use xlink:href=\"#black-pawn\" x=\"140.5\" y=\"130.5\" /><use xlink:href=\"#black-silver\" x=\"140.5\" y=\"170.5\" /><use xlink:href=\"#white-gold\" x=\"120.5\" y=\"10.5\" /><use xlink:href=\"#white-pawn\" x=\"120.5\" y=\"50.5\" /><use xlink:href=\"#black-pawn\" x=\"120.5\" y=\"130.5\" /><use xlink:href=\"#black-gold\" x=\"120.5\" y=\"170.5\" /><use xlink:href=\"#white-king\" x=\"100.5\" y=\"10.5\" /><use xlink:href=\"#white-pawn\" x=\"100.5\" y=\"50.5\" /><use xlink:href=\"#black-pawn\" x=\"100.5\" y=\"130.5\" /><use xlink:href=\"#black-king\" x=\"100.5\" y=\"170.5\" /><use xlink:href=\"#white-gold\" x=\"80.5\" y=\"10.5\" /><use xlink:href=\"#white-pawn\" x=\"80.5\" y=\"50.5\" /><use xlink:href=\"#black-pawn\" x=\"80.5\" y=\"130.5\" /><use xlink:href=\"#black-gold\" x=\"80.5\" y=\"170.5\" /><use xlink:href=\"#white-silver\" x=\"60.5\" y=\"10.5\" /><use xlink:href=\"#white-pawn\" x=\"60.5\" y=\"50.5\" /><use xlink:href=\"#black-pawn\" x=\"60.5\" y=\"130.5\" /><use xlink:href=\"#black-silver\" x=\"60.5\" y=\"170.5\" /><use xlink:href=\"#white-knight\" x=\"40.5\" y=\"10.5\" /><use xlink:href=\"#white-rook\" x=\"40.5\" y=\"30.5\" /><use xlink:href=\"#white-pawn\" x=\"40.5\" y=\"50.5\" /><use xlink:href=\"#black-pawn\" x=\"40.5\" y=\"130.5\" /><use xlink:href=\"#black-bishop\" x=\"40.5\" y=\"150.5\" /><use xlink:href=\"#black-knight\" x=\"40.5\" y=\"170.5\" /><use xlink:href=\"#white-lance\" x=\"20.5\" y=\"10.5\" /><use xlink:href=\"#white-pawn\" x=\"20.5\" y=\"50.5\" /><use xlink:href=\"#black-pawn\" x=\"20.5\" y=\"130.5\" /><use xlink:href=\"#black-lance\" x=\"20.5\" y=\"170.5\" /><text font-family=\"serif\" font-size=\"14\" x=\"214\" y=\"176\">&#25163;</text><text font-family=\"serif\" font-size=\"14\" x=\"214\" y=\"162\">&#20808;</text><text font-family=\"serif\" font-size=\"14\" x=\"214\" y=\"148\">&#9751;</text><text font-family=\"serif\" font-size=\"14\" x=\"-16\" y=\"-24\" transform=\"rotate(180)\">&#25163;</text><text font-family=\"serif\" font-size=\"14\" x=\"-16\" y=\"-38\" transform=\"rotate(180)\">&#24460;</text><text font-family=\"serif\" font-size=\"14\" x=\"-16\" y=\"-52\" transform=\"rotate(180)\">&#9750;</text></svg>"
      ],
      "text/plain": [
       "'  9  8  7  6  5  4  3  2  1\n",
       "P1-KY-KE-GI-KI-OU-KI-GI-KE-KY\n",
       "P2 * -HI *  *  *  *  * -KA * \n",
       "P3-FU-FU-FU-FU-FU-FU-FU-FU-FU\n",
       "P4 *  *  *  *  *  *  *  *  * \n",
       "P5 *  *  *  *  *  *  *  *  * \n",
       "P6 *  *  *  *  *  *  *  *  * \n",
       "P7+FU+FU+FU+FU+FU+FU+FU+FU+FU\n",
       "P8 * +KA *  *  *  *  * +HI * \n",
       "P9+KY+KE+GI+KI+OU+KI+GI+KE+KY\n",
       "+"
      ]
     },
     "execution_count": 39,
     "metadata": {},
     "output_type": "execute_result"
    }
   ],
   "source": [
    "board"
   ]
  },
  {
   "cell_type": "code",
   "execution_count": 40,
   "metadata": {},
   "outputs": [
    {
     "data": {
      "text/plain": [
       "0"
      ]
     },
     "execution_count": 40,
     "metadata": {},
     "output_type": "execute_result"
    }
   ],
   "source": [
    "len(board.history)"
   ]
  },
  {
   "cell_type": "code",
   "execution_count": 47,
   "metadata": {},
   "outputs": [],
   "source": [
    "board_piece = np.zeros([9, 9, 9], dtype=np.float32)"
   ]
  },
  {
   "cell_type": "code",
   "execution_count": 48,
   "metadata": {},
   "outputs": [],
   "source": [
    "board.piece_planes(board_piece)"
   ]
  },
  {
   "cell_type": "code",
   "execution_count": 45,
   "metadata": {},
   "outputs": [
    {
     "ename": "",
     "evalue": "",
     "output_type": "error",
     "traceback": [
      "\u001b[1;31m現在のセルまたは前のセルでコードを実行中に、カーネル (Kernel) がクラッシュしました。\n",
      "\u001b[1;31mエラーの原因を特定するには、セル内のコードを確認してください。\n",
      "\u001b[1;31m詳細については<a href='https://aka.ms/vscodeJupyterKernelCrash'>こちら</a>をクリックします。\n",
      "\u001b[1;31m詳細については、Jupyter <a href='command:jupyter.viewOutput'>ログ</a> を参照してください。"
     ]
    }
   ],
   "source": [
    "board_piece"
   ]
  },
  {
   "cell_type": "code",
   "execution_count": 37,
   "metadata": {},
   "outputs": [
    {
     "data": {
      "text/plain": [
       "[0,\n",
       " 1,\n",
       " 2,\n",
       " 0,\n",
       " 0,\n",
       " 0,\n",
       " 25,\n",
       " 0,\n",
       " 25,\n",
       " 0,\n",
       " 0,\n",
       " 1,\n",
       " 20,\n",
       " 0,\n",
       " 29,\n",
       " 0,\n",
       " 17,\n",
       " 0,\n",
       " 18,\n",
       " 0,\n",
       " 0,\n",
       " 7,\n",
       " 1,\n",
       " 3,\n",
       " 30,\n",
       " 4,\n",
       " 0,\n",
       " 9,\n",
       " 19,\n",
       " 0,\n",
       " 7,\n",
       " 0,\n",
       " 0,\n",
       " 0,\n",
       " 23,\n",
       " 8,\n",
       " 0,\n",
       " 0,\n",
       " 3,\n",
       " 17,\n",
       " 30,\n",
       " 0,\n",
       " 0,\n",
       " 0,\n",
       " 0,\n",
       " 0,\n",
       " 17,\n",
       " 20,\n",
       " 0,\n",
       " 1,\n",
       " 0,\n",
       " 25,\n",
       " 28,\n",
       " 0,\n",
       " 0,\n",
       " 9,\n",
       " 9,\n",
       " 0,\n",
       " 17,\n",
       " 0,\n",
       " 23,\n",
       " 0,\n",
       " 26,\n",
       " 0,\n",
       " 0,\n",
       " 0,\n",
       " 1,\n",
       " 24,\n",
       " 0,\n",
       " 0,\n",
       " 0,\n",
       " 0,\n",
       " 11,\n",
       " 13,\n",
       " 0,\n",
       " 0,\n",
       " 0,\n",
       " 0,\n",
       " 0,\n",
       " 17,\n",
       " 26]"
      ]
     },
     "execution_count": 37,
     "metadata": {},
     "output_type": "execute_result"
    }
   ],
   "source": [
    "board.pieces"
   ]
  },
  {
   "cell_type": "code",
   "execution_count": null,
   "metadata": {},
   "outputs": [],
   "source": []
  }
 ],
 "metadata": {
  "kernelspec": {
   "display_name": "3.11.3",
   "language": "python",
   "name": "python3"
  },
  "language_info": {
   "codemirror_mode": {
    "name": "ipython",
    "version": 3
   },
   "file_extension": ".py",
   "mimetype": "text/x-python",
   "name": "python",
   "nbconvert_exporter": "python",
   "pygments_lexer": "ipython3",
   "version": "3.11.3"
  }
 },
 "nbformat": 4,
 "nbformat_minor": 2
}
